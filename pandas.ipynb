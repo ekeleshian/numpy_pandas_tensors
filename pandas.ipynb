{
 "cells": [
  {
   "cell_type": "markdown",
   "metadata": {},
   "source": [
    "# Pandas \n",
    "\n",
    ">80% of data analysis is spent on the process of cleaning and preparing the data\n",
    "\n",
    "Pandas comes with 3 main classes:\n",
    "\n",
    "* Series - wrapper around numpy vectors, represents columns(variables) in a dataframe\n",
    "* Index - similar to Series, used to store row/column labels\n",
    "* DataFrame - sequence/dictionary of Series objects of identical lengths"
   ]
  },
  {
   "cell_type": "code",
   "execution_count": 1,
   "metadata": {},
   "outputs": [],
   "source": [
    "import pandas as pd\n",
    "import numpy as np\n",
    "pd.set_option('display.notebook_repr_html', False) #prints dataframes in raw format"
   ]
  },
  {
   "cell_type": "code",
   "execution_count": 110,
   "metadata": {},
   "outputs": [
    {
     "data": {
      "text/plain": [
       "          A      B     C\n",
       "0  0.779521   True     f\n",
       "1  0.282161  False  None\n",
       "2  0.984536   True     m\n",
       "3  0.268755   None     f\n",
       "4  0.055179   True     m"
      ]
     },
     "execution_count": 110,
     "metadata": {},
     "output_type": "execute_result"
    }
   ],
   "source": [
    "birth_dates = pd.read_csv(\"http://www.gagolewski.com/resources/data/birth_dates.csv\",\n",
    "                          comment=\"#\")\n",
    "flights = pd.read_csv(\"http://www.gagolewski.com/resources/data/flights.csv\",\n",
    "                          comment=\"#\")\n",
    "iris = pd.read_csv(\"http://www.gagolewski.com/resources/data/iris.csv\",\n",
    "                          comment=\"#\")\n",
    "tips = pd.read_csv(\"http://www.gagolewski.com/resources/data/tips.csv\",\n",
    "                          comment=\"#\")\n",
    "\n",
    "x = pd.DataFrame({ # dict\n",
    "    \"A\": np.random.rand(5),\n",
    "    \"B\": [True, False, True, None, True],\n",
    "    \"C\": [\"f\", None, \"m\", \"f\", \"m\"]\n",
    "})\n",
    "x"
   ]
  },
  {
   "cell_type": "code",
   "execution_count": 3,
   "metadata": {},
   "outputs": [
    {
     "data": {
      "text/plain": [
       "pandas.core.frame.DataFrame"
      ]
     },
     "execution_count": 3,
     "metadata": {},
     "output_type": "execute_result"
    }
   ],
   "source": [
    "type(x)"
   ]
  },
  {
   "cell_type": "code",
   "execution_count": 4,
   "metadata": {},
   "outputs": [
    {
     "data": {
      "text/plain": [
       "   total_bill   tip     sex smoker  day    time  size\n",
       "0       16.99  1.01  Female     No  Sun  Dinner     2\n",
       "1       10.34  1.66    Male     No  Sun  Dinner     3\n",
       "2       21.01  3.50    Male     No  Sun  Dinner     3\n",
       "3       23.68  3.31    Male     No  Sun  Dinner     2\n",
       "4       24.59  3.61  Female     No  Sun  Dinner     4"
      ]
     },
     "execution_count": 4,
     "metadata": {},
     "output_type": "execute_result"
    }
   ],
   "source": [
    "tips.head()"
   ]
  },
  {
   "cell_type": "code",
   "execution_count": 6,
   "metadata": {},
   "outputs": [
    {
     "data": {
      "text/plain": [
       "     total_bill   tip     sex smoker   day    time  size\n",
       "234       15.53  3.00    Male    Yes   Sat  Dinner     2\n",
       "235       10.07  1.25    Male     No   Sat  Dinner     2\n",
       "236       12.60  1.00    Male    Yes   Sat  Dinner     2\n",
       "237       32.83  1.17    Male    Yes   Sat  Dinner     2\n",
       "238       35.83  4.67  Female     No   Sat  Dinner     3\n",
       "239       29.03  5.92    Male     No   Sat  Dinner     3\n",
       "240       27.18  2.00  Female    Yes   Sat  Dinner     2\n",
       "241       22.67  2.00    Male    Yes   Sat  Dinner     2\n",
       "242       17.82  1.75    Male     No   Sat  Dinner     2\n",
       "243       18.78  3.00  Female     No  Thur  Dinner     2"
      ]
     },
     "execution_count": 6,
     "metadata": {},
     "output_type": "execute_result"
    }
   ],
   "source": [
    "tips.tail(10)"
   ]
  },
  {
   "cell_type": "code",
   "execution_count": 7,
   "metadata": {},
   "outputs": [
    {
     "data": {
      "text/plain": [
       "(5, 3)"
      ]
     },
     "execution_count": 7,
     "metadata": {},
     "output_type": "execute_result"
    }
   ],
   "source": [
    "x.shape"
   ]
  },
  {
   "cell_type": "code",
   "execution_count": 8,
   "metadata": {},
   "outputs": [
    {
     "data": {
      "text/plain": [
       "A    float64\n",
       "B     object\n",
       "C     object\n",
       "dtype: object"
      ]
     },
     "execution_count": 8,
     "metadata": {},
     "output_type": "execute_result"
    }
   ],
   "source": [
    "x.dtypes"
   ]
  },
  {
   "cell_type": "code",
   "execution_count": 9,
   "metadata": {},
   "outputs": [
    {
     "name": "stdout",
     "output_type": "stream",
     "text": [
      "<class 'pandas.core.frame.DataFrame'>\n",
      "RangeIndex: 5 entries, 0 to 4\n",
      "Data columns (total 3 columns):\n",
      "A    5 non-null float64\n",
      "B    4 non-null object\n",
      "C    4 non-null object\n",
      "dtypes: float64(1), object(2)\n",
      "memory usage: 200.0+ bytes\n"
     ]
    }
   ],
   "source": [
    "x.info()"
   ]
  },
  {
   "cell_type": "markdown",
   "metadata": {},
   "source": [
    "# Series"
   ]
  },
  {
   "cell_type": "code",
   "execution_count": 10,
   "metadata": {},
   "outputs": [
    {
     "data": {
      "text/plain": [
       "0    1\n",
       "1    2\n",
       "2    3\n",
       "3    4\n",
       "dtype: int64"
      ]
     },
     "execution_count": 10,
     "metadata": {},
     "output_type": "execute_result"
    }
   ],
   "source": [
    "pd.Series([1,2,3,4])"
   ]
  },
  {
   "cell_type": "code",
   "execution_count": 11,
   "metadata": {},
   "outputs": [
    {
     "data": {
      "text/plain": [
       "          A      B     C\n",
       "0  0.672558   True     f\n",
       "1  0.928302  False  None\n",
       "2  0.245446   True     m\n",
       "3  0.021914   None     f\n",
       "4  0.475782   True     m"
      ]
     },
     "execution_count": 11,
     "metadata": {},
     "output_type": "execute_result"
    }
   ],
   "source": [
    "x"
   ]
  },
  {
   "cell_type": "code",
   "execution_count": 12,
   "metadata": {},
   "outputs": [
    {
     "data": {
      "text/plain": [
       "0    0.672558\n",
       "1    0.928302\n",
       "2    0.245446\n",
       "3    0.021914\n",
       "4    0.475782\n",
       "Name: A, dtype: float64"
      ]
     },
     "execution_count": 12,
     "metadata": {},
     "output_type": "execute_result"
    }
   ],
   "source": [
    "x.loc[:, 'A']  #the only nonambiguous way to extract a column from a dataframe"
   ]
  },
  {
   "cell_type": "code",
   "execution_count": 13,
   "metadata": {},
   "outputs": [
    {
     "data": {
      "text/plain": [
       "0    0.672558\n",
       "1    0.928302\n",
       "2    0.245446\n",
       "3    0.021914\n",
       "4    0.475782\n",
       "Name: A, dtype: float64"
      ]
     },
     "execution_count": 13,
     "metadata": {},
     "output_type": "execute_result"
    }
   ],
   "source": [
    "x['A']"
   ]
  },
  {
   "cell_type": "code",
   "execution_count": 14,
   "metadata": {},
   "outputs": [
    {
     "data": {
      "text/plain": [
       "0    0.672558\n",
       "1    0.928302\n",
       "2    0.245446\n",
       "3    0.021914\n",
       "4    0.475782\n",
       "Name: A, dtype: float64"
      ]
     },
     "execution_count": 14,
     "metadata": {},
     "output_type": "execute_result"
    }
   ],
   "source": [
    "x.A"
   ]
  },
  {
   "cell_type": "code",
   "execution_count": 15,
   "metadata": {},
   "outputs": [
    {
     "data": {
      "text/plain": [
       "0    0.672558\n",
       "1    0.928302\n",
       "2    0.245446\n",
       "3    0.021914\n",
       "4    0.475782\n",
       "Name: A, dtype: float64"
      ]
     },
     "execution_count": 15,
     "metadata": {},
     "output_type": "execute_result"
    }
   ],
   "source": [
    "x.get('A')"
   ]
  },
  {
   "cell_type": "code",
   "execution_count": 16,
   "metadata": {},
   "outputs": [
    {
     "data": {
      "text/plain": [
       "array([0.67255838, 0.92830203, 0.24544561, 0.0219145 , 0.47578169])"
      ]
     },
     "execution_count": 16,
     "metadata": {},
     "output_type": "execute_result"
    }
   ],
   "source": [
    "x['A'].values"
   ]
  },
  {
   "cell_type": "code",
   "execution_count": 17,
   "metadata": {},
   "outputs": [
    {
     "data": {
      "text/plain": [
       "dtype('float64')"
      ]
     },
     "execution_count": 17,
     "metadata": {},
     "output_type": "execute_result"
    }
   ],
   "source": [
    "x['A'].dtype"
   ]
  },
  {
   "cell_type": "code",
   "execution_count": 18,
   "metadata": {},
   "outputs": [],
   "source": [
    "U = x['A'].copy()"
   ]
  },
  {
   "cell_type": "code",
   "execution_count": 19,
   "metadata": {},
   "outputs": [
    {
     "data": {
      "text/plain": [
       "0    0.672558\n",
       "1    0.928302\n",
       "2    0.245446\n",
       "3    0.021914\n",
       "4    0.475782\n",
       "Name: A, dtype: float64"
      ]
     },
     "execution_count": 19,
     "metadata": {},
     "output_type": "execute_result"
    }
   ],
   "source": [
    "U"
   ]
  },
  {
   "cell_type": "code",
   "execution_count": 20,
   "metadata": {},
   "outputs": [
    {
     "data": {
      "text/plain": [
       "'A'"
      ]
     },
     "execution_count": 20,
     "metadata": {},
     "output_type": "execute_result"
    }
   ],
   "source": [
    "U.name"
   ]
  },
  {
   "cell_type": "code",
   "execution_count": 21,
   "metadata": {},
   "outputs": [],
   "source": [
    "U.name = 'B'"
   ]
  },
  {
   "cell_type": "code",
   "execution_count": 22,
   "metadata": {},
   "outputs": [
    {
     "data": {
      "text/plain": [
       "0    0.672558\n",
       "1    0.928302\n",
       "2    0.245446\n",
       "3    0.021914\n",
       "4    0.475782\n",
       "Name: B, dtype: float64"
      ]
     },
     "execution_count": 22,
     "metadata": {},
     "output_type": "execute_result"
    }
   ],
   "source": [
    "U"
   ]
  },
  {
   "cell_type": "code",
   "execution_count": 23,
   "metadata": {},
   "outputs": [
    {
     "data": {
      "text/plain": [
       "        Duh\n",
       "0  0.672558\n",
       "1  0.928302\n",
       "2  0.245446\n",
       "3  0.021914\n",
       "4  0.475782"
      ]
     },
     "execution_count": 23,
     "metadata": {},
     "output_type": "execute_result"
    }
   ],
   "source": [
    "pd.DataFrame(U.rename('Duh'))"
   ]
  },
  {
   "cell_type": "code",
   "execution_count": 24,
   "metadata": {},
   "outputs": [
    {
     "data": {
      "text/plain": [
       "0    0.672558\n",
       "1    0.928302\n",
       "2    0.245446\n",
       "3    0.021914\n",
       "4    0.475782\n",
       "Name: B, dtype: float64"
      ]
     },
     "execution_count": 24,
     "metadata": {},
     "output_type": "execute_result"
    }
   ],
   "source": [
    "U"
   ]
  },
  {
   "cell_type": "code",
   "execution_count": 25,
   "metadata": {},
   "outputs": [
    {
     "data": {
      "text/plain": [
       "0   2018-10-14\n",
       "1   2018-10-21\n",
       "2   2018-10-28\n",
       "3   2018-11-04\n",
       "4   2018-11-11\n",
       "dtype: datetime64[ns]"
      ]
     },
     "execution_count": 25,
     "metadata": {},
     "output_type": "execute_result"
    }
   ],
   "source": [
    "#1. datetime\n",
    "pd.Series(pd.date_range(\"2018-10-13\", periods=5, freq='W'))"
   ]
  },
  {
   "cell_type": "code",
   "execution_count": 26,
   "metadata": {},
   "outputs": [
    {
     "data": {
      "text/plain": [
       "               Name   BirthDate\n",
       "0    Hung Hyun-Seok  12.06.2000\n",
       "1  Benno Blumenthal  31.12.1918\n",
       "2  Paitoon Ornwimol  26.06.1958\n",
       "3    P'yon Yong-Sun  10.07.1947\n",
       "4    Étienne Chaney  04.09.1983"
      ]
     },
     "execution_count": 26,
     "metadata": {},
     "output_type": "execute_result"
    }
   ],
   "source": [
    "birth_dates.head()"
   ]
  },
  {
   "cell_type": "code",
   "execution_count": 34,
   "metadata": {},
   "outputs": [],
   "source": [
    "birth_dates['BirthDate2'] = pd.to_datetime(birth_dates['BirthDate'], infer_datetime_format=True)"
   ]
  },
  {
   "cell_type": "code",
   "execution_count": 35,
   "metadata": {},
   "outputs": [
    {
     "data": {
      "text/plain": [
       "                       Name   BirthDate BirthDate2\n",
       "0            Hung Hyun-Seok  12.06.2000 2000-12-06\n",
       "1          Benno Blumenthal  31.12.1918 1918-12-31\n",
       "2          Paitoon Ornwimol  26.06.1958 1958-06-26\n",
       "3            P'yon Yong-Sun  10.07.1947 1947-10-07\n",
       "4            Étienne Chaney  04.09.1983 1983-04-09\n",
       "5         Marinko Stoilović  06.04.1951 1951-06-04\n",
       "6         Eckehard Grünfeld  01.11.1911 1911-01-11\n",
       "7              Spano Moresi  30.12.1990 1990-12-30\n",
       "8        Lothar Spiegelmann  04.10.1926 1926-04-10\n",
       "9        Adrianna Skoczylas  03.05.1916 1916-03-05\n",
       "10        Natanaël Barrande  23.04.1937 1937-04-23\n",
       "11            Tomatsu Konyo  23.06.2009 2009-06-23\n",
       "12             Muk Young-Su  06.10.1949 1949-06-10\n",
       "13         Alexandr Povýšil  10.07.1917 1917-10-07\n",
       "14         Salustio Francia  12.07.2001 2001-12-07\n",
       "15              Ding Zexian  07.01.1930 1930-07-01\n",
       "16             Aurora Botín  25.10.1929 1929-10-25\n",
       "17               Aline Rush  04.09.1916 1916-04-09\n",
       "18             Adolf Brabec  04.11.2002 2002-04-11\n",
       "19                 Suda Lam  26.05.2015 2015-05-26\n",
       "20             Tilman Baade  12.03.1990 1990-12-03\n",
       "21             Marx Crowell  17.03.2009 2009-03-17\n",
       "22                Nae U-Jin  01.04.1975 1975-01-04\n",
       "23            Zbyněk Slavík  29.03.1966 1966-03-29\n",
       "24      Dirar Ben Abdelaziz  28.06.2014 2014-06-28\n",
       "25             Nico Erlbaum  23.11.1931 1931-11-23\n",
       "26            Nedeljko Bukv  19.12.1921 1921-12-19\n",
       "27       El Madani al-Fassi  15.10.1947 1947-10-15\n",
       "28      Duchanee Panomyaong  19.06.1952 1952-06-19\n",
       "29           Ewelina Musial  01.12.1962 1962-01-12\n",
       "..                      ...         ...        ...\n",
       "102      Nintau Limthongkul  16.01.1941 1941-01-16\n",
       "103  Zorion Carriquiriberry  01.05.2012 2012-01-05\n",
       "104             Koide Konyo  27.07.1979 1979-07-27\n",
       "105      Svatopluk Suchánek  12.04.1986 1986-12-04\n",
       "106          Onorio Spiezio  02.08.1926 1926-02-08\n",
       "107          Dragoje Zarkov  15.05.1930 1930-05-15\n",
       "108             Zane Hulsey  16.04.2012 2012-04-16\n",
       "109         Guelfo Patalano  14.04.2020 2020-04-14\n",
       "110     undefined Cesljević  17.12.1961 1961-12-17\n",
       "111           Lamija Osmond  11.04.1926 1926-11-04\n",
       "112            Ghali Toufiq  22.11.1931 1931-11-22\n",
       "113         Mateusz Melánia  06.01.2029 2029-06-01\n",
       "114           Sawa Mobumasu  31.07.1924 1924-07-31\n",
       "115      Theesud Jurangkool  10.09.1964 1964-10-09\n",
       "116                Zhen Wei  16.11.1975 1975-11-16\n",
       "117       Bertoldo Mallozzi  17.08.1972 1972-08-17\n",
       "118           Wiktoria Wilk  20.07.1952 1952-07-20\n",
       "119          Juba Kunimatsu  31.07.1929 1929-07-31\n",
       "120              He Lingxin  22.08.2008 2008-08-22\n",
       "121            Antónia Lata  20.05.1935 1935-05-20\n",
       "122                 Du Yang  21.02.1952 1952-02-21\n",
       "123         Nishioka Nissho  11.10.1922 1922-11-10\n",
       "124           Phanouel Anxo  07.01.1943 1943-07-01\n",
       "125         Sigmund Thorsen  14.10.2011 2011-10-14\n",
       "126          Szűts Valentin  07.02.1956 1956-07-02\n",
       "127          Theodor Waxman  15.05.1931 1931-05-15\n",
       "128          Romualdo Marin  04.09.1982 1982-04-09\n",
       "129         Felicita Wilbur  07.06.1982 1982-07-06\n",
       "130        Kaminaga Ichibei  28.03.1996 1996-03-28\n",
       "131             Vania Toler  28.02.2000 2000-02-28\n",
       "\n",
       "[132 rows x 3 columns]"
      ]
     },
     "execution_count": 35,
     "metadata": {},
     "output_type": "execute_result"
    }
   ],
   "source": [
    "birth_dates"
   ]
  },
  {
   "cell_type": "code",
   "execution_count": 31,
   "metadata": {},
   "outputs": [],
   "source": [
    "birth_dates['BirthDate2']=birth_dates['BirthDate2'].astype('datetime64')"
   ]
  },
  {
   "cell_type": "code",
   "execution_count": 37,
   "metadata": {},
   "outputs": [
    {
     "data": {
      "text/plain": [
       "0         setosa\n",
       "1         setosa\n",
       "2         setosa\n",
       "3         setosa\n",
       "4         setosa\n",
       "5         setosa\n",
       "6         setosa\n",
       "7         setosa\n",
       "8         setosa\n",
       "9         setosa\n",
       "10        setosa\n",
       "11        setosa\n",
       "12        setosa\n",
       "13        setosa\n",
       "14        setosa\n",
       "15        setosa\n",
       "16        setosa\n",
       "17        setosa\n",
       "18        setosa\n",
       "19        setosa\n",
       "20        setosa\n",
       "21        setosa\n",
       "22        setosa\n",
       "23        setosa\n",
       "24        setosa\n",
       "25        setosa\n",
       "26        setosa\n",
       "27        setosa\n",
       "28        setosa\n",
       "29        setosa\n",
       "         ...    \n",
       "120    virginica\n",
       "121    virginica\n",
       "122    virginica\n",
       "123    virginica\n",
       "124    virginica\n",
       "125    virginica\n",
       "126    virginica\n",
       "127    virginica\n",
       "128    virginica\n",
       "129    virginica\n",
       "130    virginica\n",
       "131    virginica\n",
       "132    virginica\n",
       "133    virginica\n",
       "134    virginica\n",
       "135    virginica\n",
       "136    virginica\n",
       "137    virginica\n",
       "138    virginica\n",
       "139    virginica\n",
       "140    virginica\n",
       "141    virginica\n",
       "142    virginica\n",
       "143    virginica\n",
       "144    virginica\n",
       "145    virginica\n",
       "146    virginica\n",
       "147    virginica\n",
       "148    virginica\n",
       "149    virginica\n",
       "Name: Species, Length: 150, dtype: object"
      ]
     },
     "execution_count": 37,
     "metadata": {},
     "output_type": "execute_result"
    }
   ],
   "source": [
    "#2. categorical (factor)\n",
    "iris['Species']"
   ]
  },
  {
   "cell_type": "code",
   "execution_count": 38,
   "metadata": {},
   "outputs": [
    {
     "data": {
      "text/plain": [
       "array(['setosa', 'versicolor', 'virginica'], dtype=object)"
      ]
     },
     "execution_count": 38,
     "metadata": {},
     "output_type": "execute_result"
    }
   ],
   "source": [
    "np.unique(iris['Species'])"
   ]
  },
  {
   "cell_type": "code",
   "execution_count": 39,
   "metadata": {},
   "outputs": [
    {
     "data": {
      "text/plain": [
       "72     versicolor\n",
       "112     virginica\n",
       "132     virginica\n",
       "88     versicolor\n",
       "37         setosa\n",
       "Name: Species, dtype: object"
      ]
     },
     "execution_count": 39,
     "metadata": {},
     "output_type": "execute_result"
    }
   ],
   "source": [
    "iris['Species'].sample(n=5, random_state = 123)"
   ]
  },
  {
   "cell_type": "code",
   "execution_count": 44,
   "metadata": {},
   "outputs": [
    {
     "data": {
      "text/plain": [
       "72     versicolor\n",
       "112     virginica\n",
       "132     virginica\n",
       "88     versicolor\n",
       "37         setosa\n",
       "Name: Species, dtype: category\n",
       "Categories (3, object): [setosa, versicolor, virginica]"
      ]
     },
     "execution_count": 44,
     "metadata": {},
     "output_type": "execute_result"
    }
   ],
   "source": [
    "iris['Species'].astype('category').sample(n=5, random_state = 123)"
   ]
  },
  {
   "cell_type": "code",
   "execution_count": 47,
   "metadata": {},
   "outputs": [
    {
     "data": {
      "text/plain": [
       "0    setosa\n",
       "1    setosa\n",
       "2    setosa\n",
       "3    setosa\n",
       "4    setosa\n",
       "Name: Species, dtype: object"
      ]
     },
     "execution_count": 47,
     "metadata": {},
     "output_type": "execute_result"
    }
   ],
   "source": [
    "iris['Species'].head()"
   ]
  },
  {
   "cell_type": "code",
   "execution_count": 48,
   "metadata": {},
   "outputs": [
    {
     "data": {
      "text/plain": [
       "72     1\n",
       "112    2\n",
       "132    2\n",
       "88     1\n",
       "37     0\n",
       "dtype: int8"
      ]
     },
     "execution_count": 48,
     "metadata": {},
     "output_type": "execute_result"
    }
   ],
   "source": [
    "y = iris['Species'].astype('category')\n",
    "y.cat.codes.sample(n=5, random_state=123)"
   ]
  },
  {
   "cell_type": "code",
   "execution_count": 49,
   "metadata": {},
   "outputs": [
    {
     "data": {
      "text/plain": [
       "Index(['setosa', 'versicolor', 'virginica'], dtype='object')"
      ]
     },
     "execution_count": 49,
     "metadata": {},
     "output_type": "execute_result"
    }
   ],
   "source": [
    "y.cat.categories"
   ]
  },
  {
   "cell_type": "markdown",
   "metadata": {},
   "source": [
    "# Indices"
   ]
  },
  {
   "cell_type": "code",
   "execution_count": 50,
   "metadata": {},
   "outputs": [
    {
     "data": {
      "text/plain": [
       "          A      B     C\n",
       "0  0.672558   True     f\n",
       "1  0.928302  False  None\n",
       "2  0.245446   True     m\n",
       "3  0.021914   None     f\n",
       "4  0.475782   True     m"
      ]
     },
     "execution_count": 50,
     "metadata": {},
     "output_type": "execute_result"
    }
   ],
   "source": [
    "# A dataframe has 2 indices\n",
    "# A series has 1 index\n",
    "x"
   ]
  },
  {
   "cell_type": "code",
   "execution_count": 51,
   "metadata": {},
   "outputs": [
    {
     "data": {
      "text/plain": [
       "RangeIndex(start=0, stop=5, step=1)"
      ]
     },
     "execution_count": 51,
     "metadata": {},
     "output_type": "execute_result"
    }
   ],
   "source": [
    "x.index"
   ]
  },
  {
   "cell_type": "code",
   "execution_count": 54,
   "metadata": {},
   "outputs": [
    {
     "data": {
      "text/plain": [
       "Index(['A', 'B', 'C'], dtype='object')"
      ]
     },
     "execution_count": 54,
     "metadata": {},
     "output_type": "execute_result"
    }
   ],
   "source": [
    "x.columns"
   ]
  },
  {
   "cell_type": "code",
   "execution_count": 55,
   "metadata": {},
   "outputs": [
    {
     "data": {
      "text/plain": [
       "     Sepal.Length  Sepal.Width  Petal.Length  Petal.Width    XD XD XD\n",
       "72            6.3          2.5           4.9          1.5  versicolor\n",
       "112           6.8          3.0           5.5          2.1   virginica\n",
       "132           6.4          2.8           5.6          2.2   virginica\n",
       "88            5.6          3.0           4.1          1.3  versicolor\n",
       "37            4.9          3.6           1.4          0.1      setosa"
      ]
     },
     "execution_count": 55,
     "metadata": {},
     "output_type": "execute_result"
    }
   ],
   "source": [
    "iris.sample(n=5, random_state=123).rename({'Species':'XD XD XD'}, axis=1)"
   ]
  },
  {
   "cell_type": "code",
   "execution_count": 56,
   "metadata": {},
   "outputs": [
    {
     "data": {
      "text/plain": [
       "   Sepal.Length  Sepal.Width  Petal.Length  Petal.Width     Species\n",
       "0           6.3          2.5           4.9          1.5  versicolor\n",
       "1           6.8          3.0           5.5          2.1   virginica\n",
       "2           6.4          2.8           5.6          2.2   virginica\n",
       "3           5.6          3.0           4.1          1.3  versicolor\n",
       "4           4.9          3.6           1.4          0.1      setosa"
      ]
     },
     "execution_count": 56,
     "metadata": {},
     "output_type": "execute_result"
    }
   ],
   "source": [
    "iris.sample(n=5, random_state=123).reset_index(drop=True) #with drop = True"
   ]
  },
  {
   "cell_type": "code",
   "execution_count": 58,
   "metadata": {},
   "outputs": [
    {
     "data": {
      "text/plain": [
       "   index  Sepal.Length  Sepal.Width  Petal.Length  Petal.Width     Species\n",
       "0     72           6.3          2.5           4.9          1.5  versicolor\n",
       "1    112           6.8          3.0           5.5          2.1   virginica\n",
       "2    132           6.4          2.8           5.6          2.2   virginica\n",
       "3     88           5.6          3.0           4.1          1.3  versicolor\n",
       "4     37           4.9          3.6           1.4          0.1      setosa"
      ]
     },
     "execution_count": 58,
     "metadata": {},
     "output_type": "execute_result"
    }
   ],
   "source": [
    "iris.sample(n=5, random_state=123).reset_index() #without drop = True"
   ]
  },
  {
   "cell_type": "code",
   "execution_count": 65,
   "metadata": {},
   "outputs": [
    {
     "data": {
      "text/plain": [
       "   index      NEWCOL\n",
       "0     72  versicolor\n",
       "1    112   virginica\n",
       "2    132   virginica\n",
       "3     88  versicolor\n",
       "4     37      setosa"
      ]
     },
     "execution_count": 65,
     "metadata": {},
     "output_type": "execute_result"
    }
   ],
   "source": [
    "iris.sample(n=5, random_state=123)['Species'].reset_index(name='NEWCOL')"
   ]
  },
  {
   "cell_type": "code",
   "execution_count": 62,
   "metadata": {},
   "outputs": [],
   "source": [
    "x.index.name = 'ROWS'\n",
    "x.columns.name= 'COLS'"
   ]
  },
  {
   "cell_type": "code",
   "execution_count": 63,
   "metadata": {},
   "outputs": [
    {
     "data": {
      "text/plain": [
       "COLS         A      B     C\n",
       "ROWS                       \n",
       "0     0.672558   True     f\n",
       "1     0.928302  False  None\n",
       "2     0.245446   True     m\n",
       "3     0.021914   None     f\n",
       "4     0.475782   True     m"
      ]
     },
     "execution_count": 63,
     "metadata": {},
     "output_type": "execute_result"
    }
   ],
   "source": [
    "x"
   ]
  },
  {
   "cell_type": "code",
   "execution_count": 66,
   "metadata": {},
   "outputs": [
    {
     "data": {
      "text/plain": [
       "COLS          B     C\n",
       "A                    \n",
       "0.672558   True     f\n",
       "0.928302  False  None\n",
       "0.245446   True     m\n",
       "0.021914   None     f\n",
       "0.475782   True     m"
      ]
     },
     "execution_count": 66,
     "metadata": {},
     "output_type": "execute_result"
    }
   ],
   "source": [
    "x.set_index('A')"
   ]
  },
  {
   "cell_type": "code",
   "execution_count": 67,
   "metadata": {},
   "outputs": [
    {
     "data": {
      "text/plain": [
       "COLS         A      B     C\n",
       "0     0.672558   True     f\n",
       "1     0.928302  False  None\n",
       "2     0.245446   True     m\n",
       "3     0.021914   None     f\n",
       "4     0.475782   True     m"
      ]
     },
     "execution_count": 67,
     "metadata": {},
     "output_type": "execute_result"
    }
   ],
   "source": [
    "x.set_index('A').reset_index()"
   ]
  },
  {
   "cell_type": "code",
   "execution_count": 68,
   "metadata": {},
   "outputs": [
    {
     "data": {
      "text/plain": [
       "                passengers\n",
       "year month                \n",
       "1949 January           112\n",
       "     February          118\n",
       "     March             132\n",
       "     April             129\n",
       "     May               121\n",
       "     June              135\n",
       "     July              148\n",
       "     August            148\n",
       "     September         136\n",
       "     October           119\n",
       "     November          104\n",
       "     December          118\n",
       "1950 January           115\n",
       "     February          126\n",
       "     March             141\n",
       "     April             135\n",
       "     May               125\n",
       "     June              149\n",
       "     July              170\n",
       "     August            170\n",
       "     September         158\n",
       "     October           133\n",
       "     November          114\n",
       "     December          140\n",
       "1951 January           145\n",
       "     February          150\n",
       "     March             178\n",
       "     April             163\n",
       "     May               172\n",
       "     June              178\n",
       "...                    ...\n",
       "1958 July              491\n",
       "     August            505\n",
       "     September         404\n",
       "     October           359\n",
       "     November          310\n",
       "     December          337\n",
       "1959 January           360\n",
       "     February          342\n",
       "     March             406\n",
       "     April             396\n",
       "     May               420\n",
       "     June              472\n",
       "     July              548\n",
       "     August            559\n",
       "     September         463\n",
       "     October           407\n",
       "     November          362\n",
       "     December          405\n",
       "1960 January           417\n",
       "     February          391\n",
       "     March             419\n",
       "     April             461\n",
       "     May               472\n",
       "     June              535\n",
       "     July              622\n",
       "     August            606\n",
       "     September         508\n",
       "     October           461\n",
       "     November          390\n",
       "     December          432\n",
       "\n",
       "[144 rows x 1 columns]"
      ]
     },
     "execution_count": 68,
     "metadata": {},
     "output_type": "execute_result"
    }
   ],
   "source": [
    "#Hierarchical Index\n",
    "\n",
    "flights.set_index(['year', 'month'])"
   ]
  },
  {
   "cell_type": "code",
   "execution_count": 69,
   "metadata": {},
   "outputs": [
    {
     "data": {
      "text/plain": [
       "sex     smoker\n",
       "Female  No        2.773519\n",
       "        Yes       2.931515\n",
       "Male    No        3.113402\n",
       "        Yes       3.051167\n",
       "Name: tip, dtype: float64"
      ]
     },
     "execution_count": 69,
     "metadata": {},
     "output_type": "execute_result"
    }
   ],
   "source": [
    "tips.groupby(['sex', 'smoker']).tip.mean() #series object with a hierarchical index"
   ]
  },
  {
   "cell_type": "code",
   "execution_count": 70,
   "metadata": {},
   "outputs": [
    {
     "data": {
      "text/plain": [
       "      sex smoker       tip\n",
       "0  Female     No  2.773519\n",
       "1  Female    Yes  2.931515\n",
       "2    Male     No  3.113402\n",
       "3    Male    Yes  3.051167"
      ]
     },
     "execution_count": 70,
     "metadata": {},
     "output_type": "execute_result"
    }
   ],
   "source": [
    "tips.groupby(['sex', 'smoker']).tip.mean().reset_index()"
   ]
  },
  {
   "cell_type": "code",
   "execution_count": 71,
   "metadata": {},
   "outputs": [
    {
     "data": {
      "text/plain": [
       "                      total_bill       tip      size\n",
       "sex    smoker time                                  \n",
       "Female No     Dinner   20.004138  3.044138  2.655172\n",
       "              Lunch    15.902400  2.459600  2.520000\n",
       "       Yes    Dinner   18.215652  2.949130  2.217391\n",
       "              Lunch    17.431000  2.891000  2.300000\n",
       "Male   No     Dinner   20.130130  3.158052  2.766234\n",
       "              Lunch    18.486500  2.941500  2.500000\n",
       "       Yes    Dinner   23.642553  3.123191  2.595745\n",
       "              Lunch    17.374615  2.790769  2.153846"
      ]
     },
     "execution_count": 71,
     "metadata": {},
     "output_type": "execute_result"
    }
   ],
   "source": [
    "tips.groupby(['sex', 'smoker', 'time']).mean()"
   ]
  },
  {
   "cell_type": "code",
   "execution_count": 72,
   "metadata": {},
   "outputs": [
    {
     "data": {
      "text/plain": [
       "      sex smoker    time  total_bill       tip      size\n",
       "0  Female     No  Dinner   20.004138  3.044138  2.655172\n",
       "1  Female     No   Lunch   15.902400  2.459600  2.520000\n",
       "2  Female    Yes  Dinner   18.215652  2.949130  2.217391\n",
       "3  Female    Yes   Lunch   17.431000  2.891000  2.300000\n",
       "4    Male     No  Dinner   20.130130  3.158052  2.766234\n",
       "5    Male     No   Lunch   18.486500  2.941500  2.500000\n",
       "6    Male    Yes  Dinner   23.642553  3.123191  2.595745\n",
       "7    Male    Yes   Lunch   17.374615  2.790769  2.153846"
      ]
     },
     "execution_count": 72,
     "metadata": {},
     "output_type": "execute_result"
    }
   ],
   "source": [
    "tips.groupby(['sex', 'smoker', 'time']).mean().reset_index()"
   ]
  },
  {
   "cell_type": "code",
   "execution_count": 74,
   "metadata": {},
   "outputs": [
    {
     "data": {
      "text/plain": [
       "   year     month  passengers\n",
       "0  1949   January         112\n",
       "1  1949  February         118\n",
       "2  1949     March         132\n",
       "3  1949     April         129\n",
       "4  1949       May         121"
      ]
     },
     "execution_count": 74,
     "metadata": {},
     "output_type": "execute_result"
    }
   ],
   "source": [
    "flights.head()"
   ]
  },
  {
   "cell_type": "code",
   "execution_count": 101,
   "metadata": {},
   "outputs": [],
   "source": [
    "flights['day'] = \"01\""
   ]
  },
  {
   "cell_type": "code",
   "execution_count": 103,
   "metadata": {},
   "outputs": [
    {
     "data": {
      "text/plain": [
       "   year     month  passengers day\n",
       "0  1949   January         112  01\n",
       "1  1949  February         118  01\n",
       "2  1949     March         132  01\n",
       "3  1949     April         129  01\n",
       "4  1949       May         121  01"
      ]
     },
     "execution_count": 103,
     "metadata": {},
     "output_type": "execute_result"
    }
   ],
   "source": [
    "flights.head()"
   ]
  },
  {
   "cell_type": "code",
   "execution_count": 105,
   "metadata": {},
   "outputs": [],
   "source": [
    "# flights['date'] = pd.to_datetime(flights[['year','month','day']].astype(str).apply(lambda x: ' '.join(x), axis=1))"
   ]
  },
  {
   "cell_type": "code",
   "execution_count": 106,
   "metadata": {},
   "outputs": [
    {
     "data": {
      "text/plain": [
       "   year     month  passengers day       date\n",
       "0  1949   January         112  01 1949-01-01\n",
       "1  1949  February         118  01 1949-02-01\n",
       "2  1949     March         132  01 1949-03-01\n",
       "3  1949     April         129  01 1949-04-01\n",
       "4  1949       May         121  01 1949-05-01"
      ]
     },
     "execution_count": 106,
     "metadata": {},
     "output_type": "execute_result"
    }
   ],
   "source": [
    "flights.head()"
   ]
  },
  {
   "cell_type": "code",
   "execution_count": 107,
   "metadata": {},
   "outputs": [
    {
     "data": {
      "text/plain": [
       "              year     month  passengers day       date\n",
       "flight_index                                           \n",
       "1949-01-01    1949   January         112  01 1949-01-01\n",
       "1949-02-01    1949  February         118  01 1949-02-01\n",
       "1949-03-01    1949     March         132  01 1949-03-01\n",
       "1949-04-01    1949     April         129  01 1949-04-01\n",
       "1949-05-01    1949       May         121  01 1949-05-01"
      ]
     },
     "execution_count": 107,
     "metadata": {},
     "output_type": "execute_result"
    }
   ],
   "source": [
    "# flights[\"flight_date\"] = flights[\"month\"] + \"-\" + flights[\"year\"].map(str)\n",
    "# flights[\"flight_index\"] = pd.to_datetime(flights[\"flight_date\"],format=\"%B-%Y\")\n",
    "# flights.set_index(\"flight_index\").drop(['flight_date'], axis=1).head()"
   ]
  },
  {
   "cell_type": "code",
   "execution_count": 111,
   "metadata": {},
   "outputs": [],
   "source": [
    "flights.index = pd.to_datetime(flights[\"month\"] + \" \" + flights[\"year\"].astype('str'))"
   ]
  },
  {
   "cell_type": "code",
   "execution_count": 113,
   "metadata": {},
   "outputs": [
    {
     "data": {
      "text/plain": [
       "            year     month  passengers\n",
       "1949-01-01  1949   January         112\n",
       "1949-02-01  1949  February         118\n",
       "1949-03-01  1949     March         132\n",
       "1949-04-01  1949     April         129\n",
       "1949-05-01  1949       May         121"
      ]
     },
     "execution_count": 113,
     "metadata": {},
     "output_type": "execute_result"
    }
   ],
   "source": [
    "flights.head()"
   ]
  },
  {
   "cell_type": "code",
   "execution_count": 115,
   "metadata": {},
   "outputs": [
    {
     "data": {
      "text/plain": [
       "<matplotlib.axes._subplots.AxesSubplot at 0x7f839602f5f8>"
      ]
     },
     "execution_count": 115,
     "metadata": {},
     "output_type": "execute_result"
    },
    {
     "data": {
      "image/png": "[encoded data removed]",
      "text/plain": [
       "<Figure size 432x288 with 1 Axes>"
      ]
     },
     "metadata": {},
     "output_type": "display_data"
    }
   ],
   "source": [
    "flights.passengers.plot()"
   ]
  },
  {
   "cell_type": "markdown",
   "metadata": {},
   "source": [
    "# Indexing"
   ]
  },
  {
   "cell_type": "code",
   "execution_count": 116,
   "metadata": {},
   "outputs": [],
   "source": [
    "np.random.seed(123)\n",
    "b = pd.Series(np.round(np.random.uniform(0,1,10),2))\n",
    "c = b.copy()\n",
    "c.index = [\"a\", \"b\", \"c\", \"d\", \"e\", \"f\", \"g\", \"h\", \"i\", \"j\"]\n",
    "b.index = np.random.permutation(np.r_[0:10])"
   ]
  },
  {
   "cell_type": "code",
   "execution_count": 117,
   "metadata": {},
   "outputs": [
    {
     "data": {
      "text/plain": [
       "a    0.70\n",
       "b    0.29\n",
       "c    0.23\n",
       "d    0.55\n",
       "e    0.72\n",
       "f    0.42\n",
       "g    0.98\n",
       "h    0.68\n",
       "i    0.48\n",
       "j    0.39\n",
       "dtype: float64"
      ]
     },
     "execution_count": 117,
     "metadata": {},
     "output_type": "execute_result"
    }
   ],
   "source": [
    "c"
   ]
  },
  {
   "cell_type": "code",
   "execution_count": 118,
   "metadata": {},
   "outputs": [
    {
     "data": {
      "text/plain": [
       "2    0.70\n",
       "1    0.29\n",
       "8    0.23\n",
       "7    0.55\n",
       "9    0.72\n",
       "4    0.42\n",
       "5    0.98\n",
       "6    0.68\n",
       "3    0.48\n",
       "0    0.39\n",
       "dtype: float64"
      ]
     },
     "execution_count": 118,
     "metadata": {},
     "output_type": "execute_result"
    }
   ],
   "source": [
    "b"
   ]
  },
  {
   "cell_type": "markdown",
   "metadata": {},
   "source": [
    ">> ## **NEVER APPLY [] DIRECTLY ON SERIES**"
   ]
  },
  {
   "cell_type": "code",
   "execution_count": 119,
   "metadata": {},
   "outputs": [
    {
     "data": {
      "text/plain": [
       "2    0.7\n",
       "dtype: float64"
      ]
     },
     "execution_count": 119,
     "metadata": {},
     "output_type": "execute_result"
    }
   ],
   "source": [
    "b[0:1] #element at index 0 (or position 0)"
   ]
  },
  {
   "cell_type": "code",
   "execution_count": 121,
   "metadata": {},
   "outputs": [
    {
     "data": {
      "text/plain": [
       "0.39"
      ]
     },
     "execution_count": 121,
     "metadata": {},
     "output_type": "execute_result"
    }
   ],
   "source": [
    "b[0] #element at label 0"
   ]
  },
  {
   "cell_type": "code",
   "execution_count": 122,
   "metadata": {},
   "outputs": [
    {
     "data": {
      "text/plain": [
       "0    0.39\n",
       "dtype: float64"
      ]
     },
     "execution_count": 122,
     "metadata": {},
     "output_type": "execute_result"
    }
   ],
   "source": [
    "b[[0]]"
   ]
  },
  {
   "cell_type": "code",
   "execution_count": 123,
   "metadata": {},
   "outputs": [],
   "source": [
    "# b.iloc[] - position-based (physical index-based)\n",
    "# b.loc[] -- label-vector-based (b.index-based)"
   ]
  },
  {
   "cell_type": "code",
   "execution_count": 124,
   "metadata": {},
   "outputs": [
    {
     "data": {
      "text/plain": [
       "0.7"
      ]
     },
     "execution_count": 124,
     "metadata": {},
     "output_type": "execute_result"
    }
   ],
   "source": [
    "b.iloc[0]"
   ]
  },
  {
   "cell_type": "code",
   "execution_count": 125,
   "metadata": {},
   "outputs": [
    {
     "data": {
      "text/plain": [
       "2    0.7\n",
       "dtype: float64"
      ]
     },
     "execution_count": 125,
     "metadata": {},
     "output_type": "execute_result"
    }
   ],
   "source": [
    "b.iloc[0:1]"
   ]
  },
  {
   "cell_type": "code",
   "execution_count": 126,
   "metadata": {},
   "outputs": [
    {
     "data": {
      "text/plain": [
       "0.39"
      ]
     },
     "execution_count": 126,
     "metadata": {},
     "output_type": "execute_result"
    }
   ],
   "source": [
    "b.loc[0]"
   ]
  },
  {
   "cell_type": "code",
   "execution_count": 127,
   "metadata": {},
   "outputs": [
    {
     "data": {
      "text/plain": [
       "0    0.39\n",
       "dtype: float64"
      ]
     },
     "execution_count": 127,
     "metadata": {},
     "output_type": "execute_result"
    }
   ],
   "source": [
    "b.loc[[0]]"
   ]
  },
  {
   "cell_type": "code",
   "execution_count": 128,
   "metadata": {},
   "outputs": [
    {
     "data": {
      "text/plain": [
       "1    0.29\n",
       "8    0.23\n",
       "7    0.55\n",
       "dtype: float64"
      ]
     },
     "execution_count": 128,
     "metadata": {},
     "output_type": "execute_result"
    }
   ],
   "source": [
    "b.loc[1:7]"
   ]
  },
  {
   "cell_type": "code",
   "execution_count": 130,
   "metadata": {},
   "outputs": [
    {
     "data": {
      "text/plain": [
       "    tip     sex smoker  day\n",
       "0  1.01  Female     No  Sun\n",
       "1  1.66    Male     No  Sun\n",
       "2  3.50    Male     No  Sun\n",
       "3  3.31    Male     No  Sun\n",
       "4  3.61  Female     No  Sun"
      ]
     },
     "execution_count": 130,
     "metadata": {},
     "output_type": "execute_result"
    }
   ],
   "source": [
    "tips.loc[:, 'tip':'day'].head()"
   ]
  },
  {
   "cell_type": "code",
   "execution_count": 131,
   "metadata": {},
   "outputs": [
    {
     "data": {
      "text/plain": [
       "c    0.23\n",
       "d    0.55\n",
       "e    0.72\n",
       "f    0.42\n",
       "dtype: float64"
      ]
     },
     "execution_count": 131,
     "metadata": {},
     "output_type": "execute_result"
    }
   ],
   "source": [
    "c.loc['c':'f']"
   ]
  },
  {
   "cell_type": "code",
   "execution_count": 132,
   "metadata": {},
   "outputs": [
    {
     "data": {
      "text/plain": [
       "e    0.72\n",
       "g    0.98\n",
       "dtype: float64"
      ]
     },
     "execution_count": 132,
     "metadata": {},
     "output_type": "execute_result"
    }
   ],
   "source": [
    "c.loc[c>0.7]"
   ]
  },
  {
   "cell_type": "code",
   "execution_count": 134,
   "metadata": {},
   "outputs": [
    {
     "ename": "ValueError",
     "evalue": "iLocation based boolean indexing cannot use an indexable as a mask",
     "output_type": "error",
     "traceback": [
      "\u001b[0;31m---------------------------------------------------------------------------\u001b[0m",
      "\u001b[0;31mValueError\u001b[0m                                Traceback (most recent call last)",
      "\u001b[0;32m<ipython-input-134-1b5fe993bd40>\u001b[0m in \u001b[0;36m<module>\u001b[0;34m()\u001b[0m\n\u001b[0;32m----> 1\u001b[0;31m \u001b[0mc\u001b[0m\u001b[0;34m.\u001b[0m\u001b[0miloc\u001b[0m\u001b[0;34m[\u001b[0m\u001b[0mc\u001b[0m\u001b[0;34m>\u001b[0m\u001b[0;36m0.7\u001b[0m\u001b[0;34m]\u001b[0m  \u001b[0;31m#boolean based indxing doesn't work for iloc, only for loc\u001b[0m\u001b[0;34m\u001b[0m\u001b[0m\n\u001b[0m",
      "\u001b[0;32m~/anaconda3/lib/python3.6/site-packages/pandas/core/indexing.py\u001b[0m in \u001b[0;36m__getitem__\u001b[0;34m(self, key)\u001b[0m\n\u001b[1;32m   1476\u001b[0m \u001b[0;34m\u001b[0m\u001b[0m\n\u001b[1;32m   1477\u001b[0m             \u001b[0mmaybe_callable\u001b[0m \u001b[0;34m=\u001b[0m \u001b[0mcom\u001b[0m\u001b[0;34m.\u001b[0m\u001b[0m_apply_if_callable\u001b[0m\u001b[0;34m(\u001b[0m\u001b[0mkey\u001b[0m\u001b[0;34m,\u001b[0m \u001b[0mself\u001b[0m\u001b[0;34m.\u001b[0m\u001b[0mobj\u001b[0m\u001b[0;34m)\u001b[0m\u001b[0;34m\u001b[0m\u001b[0m\n\u001b[0;32m-> 1478\u001b[0;31m             \u001b[0;32mreturn\u001b[0m \u001b[0mself\u001b[0m\u001b[0;34m.\u001b[0m\u001b[0m_getitem_axis\u001b[0m\u001b[0;34m(\u001b[0m\u001b[0mmaybe_callable\u001b[0m\u001b[0;34m,\u001b[0m \u001b[0maxis\u001b[0m\u001b[0;34m=\u001b[0m\u001b[0maxis\u001b[0m\u001b[0;34m)\u001b[0m\u001b[0;34m\u001b[0m\u001b[0m\n\u001b[0m\u001b[1;32m   1479\u001b[0m \u001b[0;34m\u001b[0m\u001b[0m\n\u001b[1;32m   1480\u001b[0m     \u001b[0;32mdef\u001b[0m \u001b[0m_is_scalar_access\u001b[0m\u001b[0;34m(\u001b[0m\u001b[0mself\u001b[0m\u001b[0;34m,\u001b[0m \u001b[0mkey\u001b[0m\u001b[0;34m)\u001b[0m\u001b[0;34m:\u001b[0m\u001b[0;34m\u001b[0m\u001b[0m\n",
      "\u001b[0;32m~/anaconda3/lib/python3.6/site-packages/pandas/core/indexing.py\u001b[0m in \u001b[0;36m_getitem_axis\u001b[0;34m(self, key, axis)\u001b[0m\n\u001b[1;32m   2084\u001b[0m \u001b[0;34m\u001b[0m\u001b[0m\n\u001b[1;32m   2085\u001b[0m         \u001b[0;32mif\u001b[0m \u001b[0mcom\u001b[0m\u001b[0;34m.\u001b[0m\u001b[0mis_bool_indexer\u001b[0m\u001b[0;34m(\u001b[0m\u001b[0mkey\u001b[0m\u001b[0;34m)\u001b[0m\u001b[0;34m:\u001b[0m\u001b[0;34m\u001b[0m\u001b[0m\n\u001b[0;32m-> 2086\u001b[0;31m             \u001b[0mself\u001b[0m\u001b[0;34m.\u001b[0m\u001b[0m_validate_key\u001b[0m\u001b[0;34m(\u001b[0m\u001b[0mkey\u001b[0m\u001b[0;34m,\u001b[0m \u001b[0maxis\u001b[0m\u001b[0;34m)\u001b[0m\u001b[0;34m\u001b[0m\u001b[0m\n\u001b[0m\u001b[1;32m   2087\u001b[0m             \u001b[0;32mreturn\u001b[0m \u001b[0mself\u001b[0m\u001b[0;34m.\u001b[0m\u001b[0m_getbool_axis\u001b[0m\u001b[0;34m(\u001b[0m\u001b[0mkey\u001b[0m\u001b[0;34m,\u001b[0m \u001b[0maxis\u001b[0m\u001b[0;34m=\u001b[0m\u001b[0maxis\u001b[0m\u001b[0;34m)\u001b[0m\u001b[0;34m\u001b[0m\u001b[0m\n\u001b[1;32m   2088\u001b[0m \u001b[0;34m\u001b[0m\u001b[0m\n",
      "\u001b[0;32m~/anaconda3/lib/python3.6/site-packages/pandas/core/indexing.py\u001b[0m in \u001b[0;36m_validate_key\u001b[0;34m(self, key, axis)\u001b[0m\n\u001b[1;32m   1948\u001b[0m                                               \u001b[0;34m\"indexing on an integer type \"\u001b[0m\u001b[0;34m\u001b[0m\u001b[0m\n\u001b[1;32m   1949\u001b[0m                                               \"is not available\")\n\u001b[0;32m-> 1950\u001b[0;31m                 raise ValueError(\"iLocation based boolean indexing cannot use \"\n\u001b[0m\u001b[1;32m   1951\u001b[0m                                  \"an indexable as a mask\")\n\u001b[1;32m   1952\u001b[0m             \u001b[0;32mreturn\u001b[0m\u001b[0;34m\u001b[0m\u001b[0m\n",
      "\u001b[0;31mValueError\u001b[0m: iLocation based boolean indexing cannot use an indexable as a mask"
     ]
    }
   ],
   "source": [
    "c.iloc[c>0.7]  #boolean based indxing doesn't work for iloc, only for loc"
   ]
  },
  {
   "cell_type": "code",
   "execution_count": 135,
   "metadata": {},
   "outputs": [
    {
     "data": {
      "text/plain": [
       "      sex  day\n",
       "0  Female  Sun\n",
       "1    Male  Sun\n",
       "2    Male  Sun\n",
       "3    Male  Sun\n",
       "4  Female  Sun"
      ]
     },
     "execution_count": 135,
     "metadata": {},
     "output_type": "execute_result"
    }
   ],
   "source": [
    "tips.iloc[:5,:].loc[:,['sex','day']]"
   ]
  },
  {
   "cell_type": "code",
   "execution_count": 137,
   "metadata": {},
   "outputs": [
    {
     "data": {
      "text/plain": [
       "     total_bill   tip   sex smoker  day    time  size\n",
       "170       50.81  10.0  Male    Yes  Sat  Dinner     3\n",
       "212       48.33   9.0  Male     No  Sat  Dinner     4"
      ]
     },
     "execution_count": 137,
     "metadata": {},
     "output_type": "execute_result"
    }
   ],
   "source": [
    "tips.loc[tips['tip']>8,:]"
   ]
  },
  {
   "cell_type": "code",
   "execution_count": 138,
   "metadata": {},
   "outputs": [],
   "source": [
    "x= tips.groupby(['sex', 'day']).mean()"
   ]
  },
  {
   "cell_type": "code",
   "execution_count": 139,
   "metadata": {},
   "outputs": [
    {
     "data": {
      "text/plain": [
       "             total_bill       tip      size\n",
       "sex    day                                 \n",
       "Female Fri    14.145556  2.781111  2.111111\n",
       "       Sat    19.680357  2.801786  2.250000\n",
       "       Sun    19.872222  3.367222  2.944444\n",
       "       Thur   16.715312  2.575625  2.468750\n",
       "Male   Fri    19.857000  2.693000  2.100000\n",
       "       Sat    20.802542  3.083898  2.644068\n",
       "       Sun    21.887241  3.220345  2.810345\n",
       "       Thur   18.714667  2.980333  2.433333"
      ]
     },
     "execution_count": 139,
     "metadata": {},
     "output_type": "execute_result"
    }
   ],
   "source": [
    "x"
   ]
  },
  {
   "cell_type": "code",
   "execution_count": 140,
   "metadata": {},
   "outputs": [
    {
     "data": {
      "text/plain": [
       "      total_bill       tip      size\n",
       "day                                 \n",
       "Fri    19.857000  2.693000  2.100000\n",
       "Sat    20.802542  3.083898  2.644068\n",
       "Sun    21.887241  3.220345  2.810345\n",
       "Thur   18.714667  2.980333  2.433333"
      ]
     },
     "execution_count": 140,
     "metadata": {},
     "output_type": "execute_result"
    }
   ],
   "source": [
    "x.loc['Male', :]"
   ]
  },
  {
   "cell_type": "code",
   "execution_count": 142,
   "metadata": {},
   "outputs": [
    {
     "data": {
      "text/plain": [
       "            total_bill       tip      size\n",
       "sex    day                                \n",
       "Female Fri   14.145556  2.781111  2.111111\n",
       "       Sat   19.680357  2.801786  2.250000\n",
       "Male   Fri   19.857000  2.693000  2.100000\n",
       "       Sat   20.802542  3.083898  2.644068"
      ]
     },
     "execution_count": 142,
     "metadata": {},
     "output_type": "execute_result"
    }
   ],
   "source": [
    "x.loc[(slice(None), ['Fri','Sat']),:]  #slicing when you have multiple indices,i.e. when you group by more than one attribute"
   ]
  },
  {
   "cell_type": "code",
   "execution_count": 143,
   "metadata": {},
   "outputs": [],
   "source": [
    "#1. Get data on male customers only\n",
    "#2.  choose male customers with total_bill in $[10,20] \n",
    "# 3. choose Sat and Sun with tip > $5\n",
    "# 4. partition(split) tips: create 2 df: tips_train (80%) and tips_test (20% rows)"
   ]
  },
  {
   "cell_type": "code",
   "execution_count": 187,
   "metadata": {},
   "outputs": [
    {
     "data": {
      "text/plain": [
       "     total_bill   tip   sex smoker   day    time  size\n",
       "1         10.34  1.66  Male     No   Sun  Dinner     3\n",
       "2         21.01  3.50  Male     No   Sun  Dinner     3\n",
       "3         23.68  3.31  Male     No   Sun  Dinner     2\n",
       "5         25.29  4.71  Male     No   Sun  Dinner     4\n",
       "6          8.77  2.00  Male     No   Sun  Dinner     2\n",
       "7         26.88  3.12  Male     No   Sun  Dinner     4\n",
       "8         15.04  1.96  Male     No   Sun  Dinner     2\n",
       "9         14.78  3.23  Male     No   Sun  Dinner     2\n",
       "10        10.27  1.71  Male     No   Sun  Dinner     2\n",
       "12        15.42  1.57  Male     No   Sun  Dinner     2\n",
       "13        18.43  3.00  Male     No   Sun  Dinner     4\n",
       "15        21.58  3.92  Male     No   Sun  Dinner     2\n",
       "17        16.29  3.71  Male     No   Sun  Dinner     3\n",
       "19        20.65  3.35  Male     No   Sat  Dinner     3\n",
       "20        17.92  4.08  Male     No   Sat  Dinner     2\n",
       "23        39.42  7.58  Male     No   Sat  Dinner     4\n",
       "24        19.82  3.18  Male     No   Sat  Dinner     2\n",
       "25        17.81  2.34  Male     No   Sat  Dinner     4\n",
       "26        13.37  2.00  Male     No   Sat  Dinner     2\n",
       "27        12.69  2.00  Male     No   Sat  Dinner     2\n",
       "28        21.70  4.30  Male     No   Sat  Dinner     2\n",
       "30         9.55  1.45  Male     No   Sat  Dinner     2\n",
       "31        18.35  2.50  Male     No   Sat  Dinner     4\n",
       "34        17.78  3.27  Male     No   Sat  Dinner     2\n",
       "35        24.06  3.60  Male     No   Sat  Dinner     3\n",
       "36        16.31  2.00  Male     No   Sat  Dinner     3\n",
       "38        18.69  2.31  Male     No   Sat  Dinner     3\n",
       "39        31.27  5.00  Male     No   Sat  Dinner     3\n",
       "40        16.04  2.24  Male     No   Sat  Dinner     3\n",
       "41        17.46  2.54  Male     No   Sun  Dinner     2\n",
       "..          ...   ...   ...    ...   ...     ...   ...\n",
       "195        7.56  1.44  Male     No  Thur   Lunch     2\n",
       "196       10.34  2.00  Male    Yes  Thur   Lunch     2\n",
       "199       13.51  2.00  Male    Yes  Thur   Lunch     2\n",
       "200       18.71  4.00  Male    Yes  Thur   Lunch     3\n",
       "204       20.53  4.00  Male    Yes  Thur   Lunch     4\n",
       "206       26.59  3.41  Male    Yes   Sat  Dinner     3\n",
       "207       38.73  3.00  Male    Yes   Sat  Dinner     4\n",
       "208       24.27  2.03  Male    Yes   Sat  Dinner     2\n",
       "210       30.06  2.00  Male    Yes   Sat  Dinner     3\n",
       "211       25.89  5.16  Male    Yes   Sat  Dinner     4\n",
       "212       48.33  9.00  Male     No   Sat  Dinner     4\n",
       "216       28.15  3.00  Male    Yes   Sat  Dinner     5\n",
       "217       11.59  1.50  Male    Yes   Sat  Dinner     2\n",
       "218        7.74  1.44  Male    Yes   Sat  Dinner     2\n",
       "220       12.16  2.20  Male    Yes   Fri   Lunch     2\n",
       "222        8.58  1.92  Male    Yes   Fri   Lunch     1\n",
       "224       13.42  1.58  Male    Yes   Fri   Lunch     2\n",
       "227       20.45  3.00  Male     No   Sat  Dinner     4\n",
       "228       13.28  2.72  Male     No   Sat  Dinner     2\n",
       "230       24.01  2.00  Male    Yes   Sat  Dinner     4\n",
       "231       15.69  3.00  Male    Yes   Sat  Dinner     3\n",
       "232       11.61  3.39  Male     No   Sat  Dinner     2\n",
       "233       10.77  1.47  Male     No   Sat  Dinner     2\n",
       "234       15.53  3.00  Male    Yes   Sat  Dinner     2\n",
       "235       10.07  1.25  Male     No   Sat  Dinner     2\n",
       "236       12.60  1.00  Male    Yes   Sat  Dinner     2\n",
       "237       32.83  1.17  Male    Yes   Sat  Dinner     2\n",
       "239       29.03  5.92  Male     No   Sat  Dinner     3\n",
       "241       22.67  2.00  Male    Yes   Sat  Dinner     2\n",
       "242       17.82  1.75  Male     No   Sat  Dinner     2\n",
       "\n",
       "[157 rows x 7 columns]"
      ]
     },
     "execution_count": 187,
     "metadata": {},
     "output_type": "execute_result"
    }
   ],
   "source": [
    "#1\n",
    "tips.loc[tips.sex=='Male',:]"
   ]
  },
  {
   "cell_type": "code",
   "execution_count": 165,
   "metadata": {},
   "outputs": [
    {
     "data": {
      "text/plain": [
       "     total_bill   tip   sex smoker   day    time  size\n",
       "1         10.34  1.66  Male     No   Sun  Dinner     3\n",
       "8         15.04  1.96  Male     No   Sun  Dinner     2\n",
       "9         14.78  3.23  Male     No   Sun  Dinner     2\n",
       "10        10.27  1.71  Male     No   Sun  Dinner     2\n",
       "12        15.42  1.57  Male     No   Sun  Dinner     2\n",
       "13        18.43  3.00  Male     No   Sun  Dinner     4\n",
       "17        16.29  3.71  Male     No   Sun  Dinner     3\n",
       "20        17.92  4.08  Male     No   Sat  Dinner     2\n",
       "24        19.82  3.18  Male     No   Sat  Dinner     2\n",
       "25        17.81  2.34  Male     No   Sat  Dinner     4\n",
       "26        13.37  2.00  Male     No   Sat  Dinner     2\n",
       "27        12.69  2.00  Male     No   Sat  Dinner     2\n",
       "31        18.35  2.50  Male     No   Sat  Dinner     4\n",
       "34        17.78  3.27  Male     No   Sat  Dinner     2\n",
       "36        16.31  2.00  Male     No   Sat  Dinner     3\n",
       "38        18.69  2.31  Male     No   Sat  Dinner     3\n",
       "40        16.04  2.24  Male     No   Sat  Dinner     3\n",
       "41        17.46  2.54  Male     No   Sun  Dinner     2\n",
       "42        13.94  3.06  Male     No   Sun  Dinner     2\n",
       "45        18.29  3.00  Male     No   Sun  Dinner     2\n",
       "49        18.04  3.00  Male     No   Sun  Dinner     2\n",
       "50        12.54  2.50  Male     No   Sun  Dinner     2\n",
       "55        19.49  3.51  Male     No   Sun  Dinner     2\n",
       "58        11.24  1.76  Male    Yes   Sat  Dinner     2\n",
       "61        13.81  2.00  Male    Yes   Sat  Dinner     2\n",
       "62        11.02  1.98  Male    Yes   Sat  Dinner     2\n",
       "63        18.29  3.76  Male    Yes   Sat  Dinner     4\n",
       "64        17.59  2.64  Male     No   Sat  Dinner     3\n",
       "69        15.01  2.09  Male    Yes   Sat  Dinner     2\n",
       "70        12.02  1.97  Male     No   Sat  Dinner     2\n",
       "..          ...   ...   ...    ...   ...     ...   ...\n",
       "130       19.08  1.50  Male     No  Thur   Lunch     2\n",
       "138       16.00  2.00  Male    Yes  Thur   Lunch     2\n",
       "150       14.07  2.50  Male     No   Sun  Dinner     2\n",
       "151       13.13  2.00  Male     No   Sun  Dinner     2\n",
       "152       17.26  2.74  Male     No   Sun  Dinner     3\n",
       "154       19.77  2.00  Male     No   Sun  Dinner     4\n",
       "159       16.49  2.00  Male     No   Sun  Dinner     4\n",
       "161       12.66  2.50  Male     No   Sun  Dinner     2\n",
       "163       13.81  2.00  Male     No   Sun  Dinner     2\n",
       "171       15.81  3.16  Male    Yes   Sat  Dinner     2\n",
       "174       16.82  4.00  Male    Yes   Sun  Dinner     2\n",
       "176       17.89  2.00  Male    Yes   Sun  Dinner     2\n",
       "177       14.48  2.00  Male    Yes   Sun  Dinner     2\n",
       "190       15.69  1.50  Male    Yes   Sun  Dinner     2\n",
       "193       15.48  2.02  Male    Yes  Thur   Lunch     2\n",
       "194       16.58  4.00  Male    Yes  Thur   Lunch     2\n",
       "196       10.34  2.00  Male    Yes  Thur   Lunch     2\n",
       "199       13.51  2.00  Male    Yes  Thur   Lunch     2\n",
       "200       18.71  4.00  Male    Yes  Thur   Lunch     3\n",
       "217       11.59  1.50  Male    Yes   Sat  Dinner     2\n",
       "220       12.16  2.20  Male    Yes   Fri   Lunch     2\n",
       "224       13.42  1.58  Male    Yes   Fri   Lunch     2\n",
       "228       13.28  2.72  Male     No   Sat  Dinner     2\n",
       "231       15.69  3.00  Male    Yes   Sat  Dinner     3\n",
       "232       11.61  3.39  Male     No   Sat  Dinner     2\n",
       "233       10.77  1.47  Male     No   Sat  Dinner     2\n",
       "234       15.53  3.00  Male    Yes   Sat  Dinner     2\n",
       "235       10.07  1.25  Male     No   Sat  Dinner     2\n",
       "236       12.60  1.00  Male    Yes   Sat  Dinner     2\n",
       "242       17.82  1.75  Male     No   Sat  Dinner     2\n",
       "\n",
       "[76 rows x 7 columns]"
      ]
     },
     "execution_count": 165,
     "metadata": {},
     "output_type": "execute_result"
    }
   ],
   "source": [
    "#2\n",
    "tips.loc[(tips.total_bill >=10)&((tips.total_bill <=20) & (tips.sex =='Male')),:]\n",
    "\n",
    "tips.loc[(tips.sex =='Male') & (tips.total_bill.between(10,20)),:]\n",
    "\n",
    "\n",
    "tips.query('sex ==\"Male\" and 10 <= total_bill <= 20')"
   ]
  },
  {
   "cell_type": "code",
   "execution_count": 166,
   "metadata": {},
   "outputs": [
    {
     "data": {
      "text/plain": [
       "     total_bill    tip     sex smoker  day    time  size\n",
       "23        39.42   7.58    Male     No  Sat  Dinner     4\n",
       "44        30.40   5.60    Male     No  Sun  Dinner     4\n",
       "47        32.40   6.00    Male     No  Sun  Dinner     4\n",
       "52        34.81   5.20  Female     No  Sun  Dinner     4\n",
       "59        48.27   6.73    Male     No  Sat  Dinner     4\n",
       "116       29.93   5.07    Male     No  Sun  Dinner     4\n",
       "155       29.85   5.14  Female     No  Sun  Dinner     5\n",
       "170       50.81  10.00    Male    Yes  Sat  Dinner     3\n",
       "172        7.25   5.15    Male    Yes  Sun  Dinner     2\n",
       "181       23.33   5.65    Male    Yes  Sun  Dinner     2\n",
       "183       23.17   6.50    Male    Yes  Sun  Dinner     4\n",
       "211       25.89   5.16    Male    Yes  Sat  Dinner     4\n",
       "212       48.33   9.00    Male     No  Sat  Dinner     4\n",
       "214       28.17   6.50  Female    Yes  Sat  Dinner     3\n",
       "239       29.03   5.92    Male     No  Sat  Dinner     3"
      ]
     },
     "execution_count": 166,
     "metadata": {},
     "output_type": "execute_result"
    }
   ],
   "source": [
    "# 3. choose Sat and Sun with tip > $5\n",
    "tips.loc[(tips.tip >5)&((tips.day =='Sat') | (tips.day =='Sun')), :]\n",
    "\n",
    "\n",
    "tips.loc[(tips.tip >5) & (tips.day.isin(['Sat','Sun'])),:]\n",
    "\n",
    "tips.query(\"tip > 5 and day in ['Sat','Sun']\")"
   ]
  },
  {
   "cell_type": "code",
   "execution_count": 167,
   "metadata": {},
   "outputs": [
    {
     "data": {
      "text/plain": [
       "244"
      ]
     },
     "execution_count": 167,
     "metadata": {},
     "output_type": "execute_result"
    }
   ],
   "source": [
    "len(tips)"
   ]
  },
  {
   "cell_type": "code",
   "execution_count": 183,
   "metadata": {},
   "outputs": [],
   "source": [
    "# 4. partition(split) tips: create 2 df: tips_train (80%) and tips_test (20% rows)\n",
    "idx = np.random.permutation(np.arange(tips.shape[0]))\n",
    "list1=idx[:int(tips.shape[0]*.8)]\n",
    "list2=idx[int(tips.shape[0]*.8):]\n",
    "\n",
    "tips_train=tips.iloc[list1, :]\n",
    "\n",
    "tips_train = tips.iloc[: int(len(tips)*0.8), : ]"
   ]
  },
  {
   "cell_type": "code",
   "execution_count": 184,
   "metadata": {},
   "outputs": [],
   "source": [
    "tips_test=tips.iloc[int(len(tips)*0.8) : , : ]"
   ]
  },
  {
   "cell_type": "code",
   "execution_count": 172,
   "metadata": {},
   "outputs": [
    {
     "data": {
      "text/plain": [
       "Empty DataFrame\n",
       "Columns: []\n",
       "Index: [0, 1, 2, 3, 4]"
      ]
     },
     "execution_count": 172,
     "metadata": {},
     "output_type": "execute_result"
    }
   ],
   "source": [
    "tips_train.head()"
   ]
  },
  {
   "cell_type": "code",
   "execution_count": 176,
   "metadata": {},
   "outputs": [
    {
     "data": {
      "text/plain": [
       "195"
      ]
     },
     "execution_count": 176,
     "metadata": {},
     "output_type": "execute_result"
    }
   ],
   "source": [
    "int(len(tips)*0.8)"
   ]
  },
  {
   "cell_type": "code",
   "execution_count": 185,
   "metadata": {},
   "outputs": [
    {
     "data": {
      "text/plain": [
       "   total_bill   tip     sex smoker  day    time  size\n",
       "0       16.99  1.01  Female     No  Sun  Dinner     2\n",
       "1       10.34  1.66    Male     No  Sun  Dinner     3\n",
       "2       21.01  3.50    Male     No  Sun  Dinner     3\n",
       "3       23.68  3.31    Male     No  Sun  Dinner     2\n",
       "4       24.59  3.61  Female     No  Sun  Dinner     4"
      ]
     },
     "execution_count": 185,
     "metadata": {},
     "output_type": "execute_result"
    }
   ],
   "source": [
    "tips_train.head()"
   ]
  },
  {
   "cell_type": "code",
   "execution_count": 186,
   "metadata": {},
   "outputs": [
    {
     "data": {
      "text/plain": [
       "     total_bill   tip     sex smoker   day   time  size\n",
       "195        7.56  1.44    Male     No  Thur  Lunch     2\n",
       "196       10.34  2.00    Male    Yes  Thur  Lunch     2\n",
       "197       43.11  5.00  Female    Yes  Thur  Lunch     4\n",
       "198       13.00  2.00  Female    Yes  Thur  Lunch     2\n",
       "199       13.51  2.00    Male    Yes  Thur  Lunch     2"
      ]
     },
     "execution_count": 186,
     "metadata": {},
     "output_type": "execute_result"
    }
   ],
   "source": [
    "tips_test.head()"
   ]
  },
  {
   "cell_type": "code",
   "execution_count": null,
   "metadata": {},
   "outputs": [],
   "source": [
    "np.random.shuffle(tips.values)\n",
    "tips_train = tips[(tips.index<np.percentile(tips.index, 80))]\n",
    "tips_test = tips[(tips.index>=np.percentile(tips.index, 80)) ]"
   ]
  }
 ],
 "metadata": {
  "kernelspec": {
   "display_name": "Python 3",
   "language": "python",
   "name": "python3"
  },
  "language_info": {
   "codemirror_mode": {
    "name": "ipython",
    "version": 3
   },
   "file_extension": ".py",
   "mimetype": "text/x-python",
   "name": "python",
   "nbconvert_exporter": "python",
   "pygments_lexer": "ipython3",
   "version": "3.6.5"
  }
 },
 "nbformat": 4,
 "nbformat_minor": 2
}
